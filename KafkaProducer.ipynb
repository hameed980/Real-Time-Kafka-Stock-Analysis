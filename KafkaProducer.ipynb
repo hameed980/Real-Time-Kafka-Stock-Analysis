{
 "cells": [
  {
   "cell_type": "code",
   "execution_count": null,
   "id": "7a3b0980-9dbb-47cf-816a-3557c99e3d7b",
   "metadata": {},
   "outputs": [
    {
     "name": "stdout",
     "output_type": "stream",
     "text": [
      "Requirement already satisfied: kafka-python in c:\\users\\hp\\anaconda3\\lib\\site-packages (2.2.11)\n",
      "Note: you may need to restart the kernel to use updated packages.\n"
     ]
    }
   ],
   "source": [
    "pip install kafka-python"
   ]
  },
  {
   "cell_type": "code",
   "execution_count": null,
   "id": "6cbf8cf4-5d33-4549-ad39-595e2af6dedb",
   "metadata": {},
   "outputs": [],
   "source": [
    "import pandas as pd\n",
    "from kafka import KafkaProducer\n",
    "from time import sleep\n",
    "from json import dumps\n",
    "import json\n",
    "\n",
    "# Initialize Kafka Producer\n",
    "producer = KafkaProducer(\n",
    "    bootstrap_servers=['18.206.225.147:9092'],\n",
    "    value_serializer=lambda x: dumps(x).encode('utf-8')\n",
    ")\n",
    "\n",
    "# Confirm connection\n",
    "producer.send('streaming-topic', value={'test': 'connection successful'})\n",
    "producer.flush()\n",
    "print(\"Sent test message.\")\n",
    "\n",
    "# Load CSV\n",
    "df = pd.read_csv(\"data/indexProcessed.csv\")\n",
    "\n",
    "# Stream data \n",
    "for i in range(100):  \n",
    "    stock_data = df.sample(1).to_dict(orient=\"records\")[0]\n",
    "    print(f\"Sending: {stock_data}\")\n",
    "    producer.send('streaming-topic', value=stock_data)\n",
    "    producer.flush()\n",
    "    sleep(1) \n"
   ]
  },
  {
   "cell_type": "code",
   "execution_count": null,
   "id": "92036b0e-5cc5-4be3-ac23-a6fc1b0325b0",
   "metadata": {},
   "outputs": [],
   "source": []
  }
 ],
 "metadata": {
  "kernelspec": {
   "display_name": "Python 3 (ipykernel)",
   "language": "python",
   "name": "python3"
  },
  "language_info": {
   "codemirror_mode": {
    "name": "ipython",
    "version": 3
   },
   "file_extension": ".py",
   "mimetype": "text/x-python",
   "name": "python",
   "nbconvert_exporter": "python",
   "pygments_lexer": "ipython3",
   "version": "3.12.7"
  }
 },
 "nbformat": 4,
 "nbformat_minor": 5
}

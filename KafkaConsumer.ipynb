{
 "cells": [
  {
   "cell_type": "code",
   "execution_count": null,
   "id": "56df2db1-1cdc-47fe-8893-41493f50729a",
   "metadata": {},
   "outputs": [],
   "source": [
    "from kafka import KafkaConsumer\n",
    "from json import loads, dump\n",
    "from smart_open import open\n",
    "import boto3\n",
    "import s3fs\n",
    "\n",
    "# Kafka consumer\n",
    "consumer = KafkaConsumer(\n",
    "    'streaming-topic',\n",
    "    bootstrap_servers=['18.206.225.147:9092'],\n",
    "    value_deserializer=lambda x: loads(x.decode('utf-8'))\n",
    ")\n",
    "\n",
    "# Kafka to S3 loop\n",
    "for count, message in enumerate(consumer):\n",
    "    print(f\"Received from Kafka (#{count}):\", message.value)\n",
    "\n",
    "    s3_path = f's3://kafka-stock-market-ah/stock_market_{count}.json'\n",
    "\n",
    "    try:\n",
    "        with open(s3_path, 'w') as file:\n",
    "            dump(message.value, file)\n",
    "        print(f\"Uploaded to S3: {s3_path}\")\n",
    "    except Exception as e:\n",
    "        print(f\"Failed to upload {s3_path}: {e}\")\n",
    "\n"
   ]
  },
  {
   "cell_type": "code",
   "execution_count": null,
   "id": "66f4f257-1163-48ec-a21d-217428e37bec",
   "metadata": {},
   "outputs": [],
   "source": []
  }
 ],
 "metadata": {
  "kernelspec": {
   "display_name": "Python 3 (ipykernel)",
   "language": "python",
   "name": "python3"
  },
  "language_info": {
   "codemirror_mode": {
    "name": "ipython",
    "version": 3
   },
   "file_extension": ".py",
   "mimetype": "text/x-python",
   "name": "python",
   "nbconvert_exporter": "python",
   "pygments_lexer": "ipython3",
   "version": "3.12.7"
  }
 },
 "nbformat": 4,
 "nbformat_minor": 5
}
